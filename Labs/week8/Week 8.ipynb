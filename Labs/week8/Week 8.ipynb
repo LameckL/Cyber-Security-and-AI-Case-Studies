{
 "cells": [
  {
   "cell_type": "markdown",
   "id": "7d592f36-47a2-423a-81cf-740a9369ae7f",
   "metadata": {},
   "source": [
    "<h3><b>Activity 1: RSA Implementation</b></h3>"
   ]
  },
  {
   "cell_type": "markdown",
   "id": "ca792d94-254d-4f45-a6c6-17a078dd65e7",
   "metadata": {},
   "source": [
    "<h3>Key Generation</h3>"
   ]
  },
  {
   "cell_type": "code",
   "execution_count": 50,
   "id": "1e8f524d-0935-440f-8376-39c534f7a08d",
   "metadata": {},
   "outputs": [
    {
     "name": "stdout",
     "output_type": "stream",
     "text": [
      "Public Key (e, n): (7, 77)\n",
      "Private Key (d, n): (43, 77)\n"
     ]
    }
   ],
   "source": [
    "from Crypto.Util.number import inverse\n",
    "\n",
    "# Step 1: Choose primes\n",
    "p = 11\n",
    "q = 7\n",
    "\n",
    "# Step 2: Compute n and phi(n)\n",
    "n = p * q            # 77\n",
    "phi = (p - 1) * (q - 1)  # 60\n",
    "\n",
    "# Step 3: Choose e\n",
    "e = 7  # Coprime to 60\n",
    "\n",
    "# Step 4: Compute d\n",
    "d = inverse(e, phi)  # Modular inverse of e mod phi(n)\n",
    "\n",
    "print(\"Public Key (e, n):\", (e, n))\n",
    "print(\"Private Key (d, n):\", (d, n))\n"
   ]
  },
  {
   "cell_type": "markdown",
   "id": "4b21298a-2055-46fa-a679-617aab22ec81",
   "metadata": {},
   "source": [
    "<h3>RSA Encryption</h3>"
   ]
  },
  {
   "cell_type": "code",
   "execution_count": 51,
   "id": "0c4bcc8a-8b9f-44fe-8bb4-a81fcea0c9cf",
   "metadata": {},
   "outputs": [
    {
     "name": "stdout",
     "output_type": "stream",
     "text": [
      "Original Message: 5\n",
      "Encrypted Ciphertext: 47\n"
     ]
    }
   ],
   "source": [
    "# Message to encrypt\n",
    "M = 5\n",
    "\n",
    "# Encryption: C = M^e mod n\n",
    "C = pow(M, e, n)\n",
    "\n",
    "print(\"Original Message:\", M)\n",
    "print(\"Encrypted Ciphertext:\", C)\n"
   ]
  },
  {
   "cell_type": "markdown",
   "id": "ab62c34b-1856-45ac-a966-af5013dfd2a7",
   "metadata": {},
   "source": [
    "<h3>RSA Decryption</h3>"
   ]
  },
  {
   "cell_type": "code",
   "execution_count": 52,
   "id": "79139792-aac3-427b-85db-e1079ba49578",
   "metadata": {},
   "outputs": [
    {
     "name": "stdout",
     "output_type": "stream",
     "text": [
      "Decrypted Message: 5\n"
     ]
    }
   ],
   "source": [
    "# Decryption: M = C^d mod n\n",
    "decrypted_M = pow(C, d, n)\n",
    "\n",
    "print(\"Decrypted Message:\", decrypted_M)\n"
   ]
  },
  {
   "cell_type": "code",
   "execution_count": null,
   "id": "939c268e-ea7e-4307-b94c-75e22c0b1d99",
   "metadata": {},
   "outputs": [],
   "source": []
  },
  {
   "cell_type": "markdown",
   "id": "4acdaa19-9f9d-4833-8dcd-3291d91f0872",
   "metadata": {},
   "source": [
    "<h3><b>Activity 2: Diffie-Hellman Key Exchange</b></h3>"
   ]
  },
  {
   "cell_type": "code",
   "execution_count": 53,
   "id": "a7754d86-30b1-49e4-9683-36dfe8ce6a45",
   "metadata": {},
   "outputs": [
    {
     "name": "stdout",
     "output_type": "stream",
     "text": [
      "My Public Value (A): 19\n",
      "Public Value received from Joan: 8\n",
      "My Shared Secret (s): 2\n"
     ]
    }
   ],
   "source": [
    "# Public values\n",
    "p = 23  # Prime number\n",
    "g = 5   # Primitive root\n",
    "\n",
    "# Private key\n",
    "a = 15  # Mine\n",
    "\n",
    "# Compute public key\n",
    "A = pow(g, a, p)  # Send to Joan\n",
    "\n",
    "# Public value from Joan is 8\n",
    "# Compute shared secret\n",
    "shared_secret = pow(8, a, p)\n",
    "\n",
    "print(\"My Public Value (A):\", A)\n",
    "print(\"Public Value received from Joan: 8\")\n",
    "print(\"My Shared Secret (s):\", shared_secret)\n"
   ]
  },
  {
   "cell_type": "code",
   "execution_count": null,
   "id": "c02eeabb-b090-4f8b-b441-fc25b58c7303",
   "metadata": {},
   "outputs": [],
   "source": []
  },
  {
   "cell_type": "markdown",
   "id": "fce3b7bb-5a50-4305-8924-9e9295e66cc1",
   "metadata": {},
   "source": [
    "<h3><b>Optional Challenge: Hybrid Encryption (Diffie-Hellman + AES)</b></h3>"
   ]
  },
  {
   "cell_type": "code",
   "execution_count": 54,
   "id": "79ba56c8-9b8b-4d3f-8257-d7e6ffce3019",
   "metadata": {},
   "outputs": [
    {
     "name": "stdout",
     "output_type": "stream",
     "text": [
      "Ciphertext (hex): ea63d14cf0bec23fbba6a177382bf02d9f776a3d6f4338e46cdf8b7162a2448a\n",
      "IV (hex): 372757be42c2f4602aaf124ad4ecdd3c\n"
     ]
    }
   ],
   "source": [
    "from Crypto.Cipher import AES\n",
    "from Crypto.Util.Padding import pad, unpad\n",
    "from hashlib import sha256\n",
    "import os\n",
    "\n",
    "# Message to send\n",
    "message = \"Hi Joan, this is encrypted!\"\n",
    "\n",
    "# AES Encryption (CBC mode)\n",
    "cipher = AES.new(key, AES.MODE_CBC)\n",
    "iv = cipher.iv\n",
    "ciphertext = cipher.encrypt(pad(message.encode(), AES.block_size))\n",
    "\n",
    "# To send to Joan\n",
    "print(\"Ciphertext (hex):\", ciphertext.hex())\n",
    "print(\"IV (hex):\", iv.hex())"
   ]
  },
  {
   "cell_type": "code",
   "execution_count": null,
   "id": "4a08a50b-4aad-41bb-924a-a2838af4561b",
   "metadata": {},
   "outputs": [],
   "source": []
  },
  {
   "cell_type": "code",
   "execution_count": null,
   "id": "96ee3445",
   "metadata": {},
   "outputs": [],
   "source": []
  }
 ],
 "metadata": {
  "kernelspec": {
   "display_name": "Python 3 (ipykernel)",
   "language": "python",
   "name": "python3"
  },
  "language_info": {
   "codemirror_mode": {
    "name": "ipython",
    "version": 3
   },
   "file_extension": ".py",
   "mimetype": "text/x-python",
   "name": "python",
   "nbconvert_exporter": "python",
   "pygments_lexer": "ipython3",
   "version": "3.11.5"
  }
 },
 "nbformat": 4,
 "nbformat_minor": 5
}
